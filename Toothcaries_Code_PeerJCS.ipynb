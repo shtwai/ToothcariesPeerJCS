{
  "cells": [
    {
      "cell_type": "code",
      "execution_count": 1,
      "metadata": {
        "id": "0Ko2ZrWsTuS8"
      },
      "outputs": [],
      "source": [
        "\n",
        "import pandas as pd\n",
        "import seaborn as sns\n",
        "import numpy as np\n",
        "import matplotlib\n",
        "import matplotlib.pyplot as plt\n",
        "\n",
        "%matplotlib inline"
      ]
    },
    {
      "cell_type": "code",
      "execution_count": 2,
      "metadata": {
        "id": "vO7a1MGNTuS9"
      },
      "outputs": [],
      "source": [
        "#Reading Toothcaries dataset\n",
        "data = pd.read_csv('ToothCarriesPCADataset1.csv')"
      ]
    },
    {
      "cell_type": "code",
      "source": [
        "#Reading Toothcaries dataset first ten rows\n",
        "data.head(10)"
      ],
      "metadata": {
        "colab": {
          "base_uri": "https://localhost:8080/",
          "height": 392
        },
        "id": "UegQiqMRUOKT",
        "outputId": "de3b3dd2-856a-4243-eb26-f4c0d5716212"
      },
      "execution_count": 3,
      "outputs": [
        {
          "output_type": "execute_result",
          "data": {
            "text/plain": [
              "   act_caries  Gender  Prev_caries  Calculus  Fluorosis  Bleeding  X1  X2  X3  \\\n",
              "0           0       1            0         1          0         0   0   0   1   \n",
              "1           1       0            0         1          0         1   1   0   0   \n",
              "2           1       0            1         1          0         1   0   1   0   \n",
              "3           0       0            1         1          0         1   1   1   0   \n",
              "4           0       0            0         0          1         0   0   0   1   \n",
              "5           0       1            0         1          1         0   0   0   0   \n",
              "6           1       1            1         0          0         1   0   0   0   \n",
              "7           0       0            0         0          1         0   1   0   1   \n",
              "8           0       1            0         1          0         0   0   1   0   \n",
              "9           1       0            0         0          1         1   1   1   0   \n",
              "\n",
              "   X4_1  ...  X13  X14_1  X14_2  X14_3  X14_4  X14_5  X14_6  X14_7  X14_8  \\\n",
              "0     0  ...    1      0      1      1      0      1      0      0      1   \n",
              "1     0  ...    1      0      0      1      0      1      0      0      0   \n",
              "2     1  ...    1      0      1      1      1      0      0      0      0   \n",
              "3     0  ...    1      1      1      0      1      1      1      0      0   \n",
              "4     0  ...    0      0      0      0      1      0      0      1      1   \n",
              "5     0  ...    0      1      0      0      0      1      0      0      1   \n",
              "6     0  ...    1      0      0      0      1      1      0      1      1   \n",
              "7     0  ...    0      1      1      0      1      0      0      1      0   \n",
              "8     1  ...    0      1      1      1      1      1      0      1      1   \n",
              "9     0  ...    1      1      1      0      1      1      0      0      1   \n",
              "\n",
              "   X14_9  \n",
              "0      1  \n",
              "1      0  \n",
              "2      0  \n",
              "3      0  \n",
              "4      0  \n",
              "5      1  \n",
              "6      0  \n",
              "7      1  \n",
              "8      0  \n",
              "9      1  \n",
              "\n",
              "[10 rows x 35 columns]"
            ],
            "text/html": [
              "\n",
              "  <div id=\"df-56e76b75-ca72-4904-8945-fab38be47811\">\n",
              "    <div class=\"colab-df-container\">\n",
              "      <div>\n",
              "<style scoped>\n",
              "    .dataframe tbody tr th:only-of-type {\n",
              "        vertical-align: middle;\n",
              "    }\n",
              "\n",
              "    .dataframe tbody tr th {\n",
              "        vertical-align: top;\n",
              "    }\n",
              "\n",
              "    .dataframe thead th {\n",
              "        text-align: right;\n",
              "    }\n",
              "</style>\n",
              "<table border=\"1\" class=\"dataframe\">\n",
              "  <thead>\n",
              "    <tr style=\"text-align: right;\">\n",
              "      <th></th>\n",
              "      <th>act_caries</th>\n",
              "      <th>Gender</th>\n",
              "      <th>Prev_caries</th>\n",
              "      <th>Calculus</th>\n",
              "      <th>Fluorosis</th>\n",
              "      <th>Bleeding</th>\n",
              "      <th>X1</th>\n",
              "      <th>X2</th>\n",
              "      <th>X3</th>\n",
              "      <th>X4_1</th>\n",
              "      <th>...</th>\n",
              "      <th>X13</th>\n",
              "      <th>X14_1</th>\n",
              "      <th>X14_2</th>\n",
              "      <th>X14_3</th>\n",
              "      <th>X14_4</th>\n",
              "      <th>X14_5</th>\n",
              "      <th>X14_6</th>\n",
              "      <th>X14_7</th>\n",
              "      <th>X14_8</th>\n",
              "      <th>X14_9</th>\n",
              "    </tr>\n",
              "  </thead>\n",
              "  <tbody>\n",
              "    <tr>\n",
              "      <th>0</th>\n",
              "      <td>0</td>\n",
              "      <td>1</td>\n",
              "      <td>0</td>\n",
              "      <td>1</td>\n",
              "      <td>0</td>\n",
              "      <td>0</td>\n",
              "      <td>0</td>\n",
              "      <td>0</td>\n",
              "      <td>1</td>\n",
              "      <td>0</td>\n",
              "      <td>...</td>\n",
              "      <td>1</td>\n",
              "      <td>0</td>\n",
              "      <td>1</td>\n",
              "      <td>1</td>\n",
              "      <td>0</td>\n",
              "      <td>1</td>\n",
              "      <td>0</td>\n",
              "      <td>0</td>\n",
              "      <td>1</td>\n",
              "      <td>1</td>\n",
              "    </tr>\n",
              "    <tr>\n",
              "      <th>1</th>\n",
              "      <td>1</td>\n",
              "      <td>0</td>\n",
              "      <td>0</td>\n",
              "      <td>1</td>\n",
              "      <td>0</td>\n",
              "      <td>1</td>\n",
              "      <td>1</td>\n",
              "      <td>0</td>\n",
              "      <td>0</td>\n",
              "      <td>0</td>\n",
              "      <td>...</td>\n",
              "      <td>1</td>\n",
              "      <td>0</td>\n",
              "      <td>0</td>\n",
              "      <td>1</td>\n",
              "      <td>0</td>\n",
              "      <td>1</td>\n",
              "      <td>0</td>\n",
              "      <td>0</td>\n",
              "      <td>0</td>\n",
              "      <td>0</td>\n",
              "    </tr>\n",
              "    <tr>\n",
              "      <th>2</th>\n",
              "      <td>1</td>\n",
              "      <td>0</td>\n",
              "      <td>1</td>\n",
              "      <td>1</td>\n",
              "      <td>0</td>\n",
              "      <td>1</td>\n",
              "      <td>0</td>\n",
              "      <td>1</td>\n",
              "      <td>0</td>\n",
              "      <td>1</td>\n",
              "      <td>...</td>\n",
              "      <td>1</td>\n",
              "      <td>0</td>\n",
              "      <td>1</td>\n",
              "      <td>1</td>\n",
              "      <td>1</td>\n",
              "      <td>0</td>\n",
              "      <td>0</td>\n",
              "      <td>0</td>\n",
              "      <td>0</td>\n",
              "      <td>0</td>\n",
              "    </tr>\n",
              "    <tr>\n",
              "      <th>3</th>\n",
              "      <td>0</td>\n",
              "      <td>0</td>\n",
              "      <td>1</td>\n",
              "      <td>1</td>\n",
              "      <td>0</td>\n",
              "      <td>1</td>\n",
              "      <td>1</td>\n",
              "      <td>1</td>\n",
              "      <td>0</td>\n",
              "      <td>0</td>\n",
              "      <td>...</td>\n",
              "      <td>1</td>\n",
              "      <td>1</td>\n",
              "      <td>1</td>\n",
              "      <td>0</td>\n",
              "      <td>1</td>\n",
              "      <td>1</td>\n",
              "      <td>1</td>\n",
              "      <td>0</td>\n",
              "      <td>0</td>\n",
              "      <td>0</td>\n",
              "    </tr>\n",
              "    <tr>\n",
              "      <th>4</th>\n",
              "      <td>0</td>\n",
              "      <td>0</td>\n",
              "      <td>0</td>\n",
              "      <td>0</td>\n",
              "      <td>1</td>\n",
              "      <td>0</td>\n",
              "      <td>0</td>\n",
              "      <td>0</td>\n",
              "      <td>1</td>\n",
              "      <td>0</td>\n",
              "      <td>...</td>\n",
              "      <td>0</td>\n",
              "      <td>0</td>\n",
              "      <td>0</td>\n",
              "      <td>0</td>\n",
              "      <td>1</td>\n",
              "      <td>0</td>\n",
              "      <td>0</td>\n",
              "      <td>1</td>\n",
              "      <td>1</td>\n",
              "      <td>0</td>\n",
              "    </tr>\n",
              "    <tr>\n",
              "      <th>5</th>\n",
              "      <td>0</td>\n",
              "      <td>1</td>\n",
              "      <td>0</td>\n",
              "      <td>1</td>\n",
              "      <td>1</td>\n",
              "      <td>0</td>\n",
              "      <td>0</td>\n",
              "      <td>0</td>\n",
              "      <td>0</td>\n",
              "      <td>0</td>\n",
              "      <td>...</td>\n",
              "      <td>0</td>\n",
              "      <td>1</td>\n",
              "      <td>0</td>\n",
              "      <td>0</td>\n",
              "      <td>0</td>\n",
              "      <td>1</td>\n",
              "      <td>0</td>\n",
              "      <td>0</td>\n",
              "      <td>1</td>\n",
              "      <td>1</td>\n",
              "    </tr>\n",
              "    <tr>\n",
              "      <th>6</th>\n",
              "      <td>1</td>\n",
              "      <td>1</td>\n",
              "      <td>1</td>\n",
              "      <td>0</td>\n",
              "      <td>0</td>\n",
              "      <td>1</td>\n",
              "      <td>0</td>\n",
              "      <td>0</td>\n",
              "      <td>0</td>\n",
              "      <td>0</td>\n",
              "      <td>...</td>\n",
              "      <td>1</td>\n",
              "      <td>0</td>\n",
              "      <td>0</td>\n",
              "      <td>0</td>\n",
              "      <td>1</td>\n",
              "      <td>1</td>\n",
              "      <td>0</td>\n",
              "      <td>1</td>\n",
              "      <td>1</td>\n",
              "      <td>0</td>\n",
              "    </tr>\n",
              "    <tr>\n",
              "      <th>7</th>\n",
              "      <td>0</td>\n",
              "      <td>0</td>\n",
              "      <td>0</td>\n",
              "      <td>0</td>\n",
              "      <td>1</td>\n",
              "      <td>0</td>\n",
              "      <td>1</td>\n",
              "      <td>0</td>\n",
              "      <td>1</td>\n",
              "      <td>0</td>\n",
              "      <td>...</td>\n",
              "      <td>0</td>\n",
              "      <td>1</td>\n",
              "      <td>1</td>\n",
              "      <td>0</td>\n",
              "      <td>1</td>\n",
              "      <td>0</td>\n",
              "      <td>0</td>\n",
              "      <td>1</td>\n",
              "      <td>0</td>\n",
              "      <td>1</td>\n",
              "    </tr>\n",
              "    <tr>\n",
              "      <th>8</th>\n",
              "      <td>0</td>\n",
              "      <td>1</td>\n",
              "      <td>0</td>\n",
              "      <td>1</td>\n",
              "      <td>0</td>\n",
              "      <td>0</td>\n",
              "      <td>0</td>\n",
              "      <td>1</td>\n",
              "      <td>0</td>\n",
              "      <td>1</td>\n",
              "      <td>...</td>\n",
              "      <td>0</td>\n",
              "      <td>1</td>\n",
              "      <td>1</td>\n",
              "      <td>1</td>\n",
              "      <td>1</td>\n",
              "      <td>1</td>\n",
              "      <td>0</td>\n",
              "      <td>1</td>\n",
              "      <td>1</td>\n",
              "      <td>0</td>\n",
              "    </tr>\n",
              "    <tr>\n",
              "      <th>9</th>\n",
              "      <td>1</td>\n",
              "      <td>0</td>\n",
              "      <td>0</td>\n",
              "      <td>0</td>\n",
              "      <td>1</td>\n",
              "      <td>1</td>\n",
              "      <td>1</td>\n",
              "      <td>1</td>\n",
              "      <td>0</td>\n",
              "      <td>0</td>\n",
              "      <td>...</td>\n",
              "      <td>1</td>\n",
              "      <td>1</td>\n",
              "      <td>1</td>\n",
              "      <td>0</td>\n",
              "      <td>1</td>\n",
              "      <td>1</td>\n",
              "      <td>0</td>\n",
              "      <td>0</td>\n",
              "      <td>1</td>\n",
              "      <td>1</td>\n",
              "    </tr>\n",
              "  </tbody>\n",
              "</table>\n",
              "<p>10 rows × 35 columns</p>\n",
              "</div>\n",
              "      <button class=\"colab-df-convert\" onclick=\"convertToInteractive('df-56e76b75-ca72-4904-8945-fab38be47811')\"\n",
              "              title=\"Convert this dataframe to an interactive table.\"\n",
              "              style=\"display:none;\">\n",
              "        \n",
              "  <svg xmlns=\"http://www.w3.org/2000/svg\" height=\"24px\"viewBox=\"0 0 24 24\"\n",
              "       width=\"24px\">\n",
              "    <path d=\"M0 0h24v24H0V0z\" fill=\"none\"/>\n",
              "    <path d=\"M18.56 5.44l.94 2.06.94-2.06 2.06-.94-2.06-.94-.94-2.06-.94 2.06-2.06.94zm-11 1L8.5 8.5l.94-2.06 2.06-.94-2.06-.94L8.5 2.5l-.94 2.06-2.06.94zm10 10l.94 2.06.94-2.06 2.06-.94-2.06-.94-.94-2.06-.94 2.06-2.06.94z\"/><path d=\"M17.41 7.96l-1.37-1.37c-.4-.4-.92-.59-1.43-.59-.52 0-1.04.2-1.43.59L10.3 9.45l-7.72 7.72c-.78.78-.78 2.05 0 2.83L4 21.41c.39.39.9.59 1.41.59.51 0 1.02-.2 1.41-.59l7.78-7.78 2.81-2.81c.8-.78.8-2.07 0-2.86zM5.41 20L4 18.59l7.72-7.72 1.47 1.35L5.41 20z\"/>\n",
              "  </svg>\n",
              "      </button>\n",
              "      \n",
              "  <style>\n",
              "    .colab-df-container {\n",
              "      display:flex;\n",
              "      flex-wrap:wrap;\n",
              "      gap: 12px;\n",
              "    }\n",
              "\n",
              "    .colab-df-convert {\n",
              "      background-color: #E8F0FE;\n",
              "      border: none;\n",
              "      border-radius: 50%;\n",
              "      cursor: pointer;\n",
              "      display: none;\n",
              "      fill: #1967D2;\n",
              "      height: 32px;\n",
              "      padding: 0 0 0 0;\n",
              "      width: 32px;\n",
              "    }\n",
              "\n",
              "    .colab-df-convert:hover {\n",
              "      background-color: #E2EBFA;\n",
              "      box-shadow: 0px 1px 2px rgba(60, 64, 67, 0.3), 0px 1px 3px 1px rgba(60, 64, 67, 0.15);\n",
              "      fill: #174EA6;\n",
              "    }\n",
              "\n",
              "    [theme=dark] .colab-df-convert {\n",
              "      background-color: #3B4455;\n",
              "      fill: #D2E3FC;\n",
              "    }\n",
              "\n",
              "    [theme=dark] .colab-df-convert:hover {\n",
              "      background-color: #434B5C;\n",
              "      box-shadow: 0px 1px 3px 1px rgba(0, 0, 0, 0.15);\n",
              "      filter: drop-shadow(0px 1px 2px rgba(0, 0, 0, 0.3));\n",
              "      fill: #FFFFFF;\n",
              "    }\n",
              "  </style>\n",
              "\n",
              "      <script>\n",
              "        const buttonEl =\n",
              "          document.querySelector('#df-56e76b75-ca72-4904-8945-fab38be47811 button.colab-df-convert');\n",
              "        buttonEl.style.display =\n",
              "          google.colab.kernel.accessAllowed ? 'block' : 'none';\n",
              "\n",
              "        async function convertToInteractive(key) {\n",
              "          const element = document.querySelector('#df-56e76b75-ca72-4904-8945-fab38be47811');\n",
              "          const dataTable =\n",
              "            await google.colab.kernel.invokeFunction('convertToInteractive',\n",
              "                                                     [key], {});\n",
              "          if (!dataTable) return;\n",
              "\n",
              "          const docLinkHtml = 'Like what you see? Visit the ' +\n",
              "            '<a target=\"_blank\" href=https://colab.research.google.com/notebooks/data_table.ipynb>data table notebook</a>'\n",
              "            + ' to learn more about interactive tables.';\n",
              "          element.innerHTML = '';\n",
              "          dataTable['output_type'] = 'display_data';\n",
              "          await google.colab.output.renderOutput(dataTable, element);\n",
              "          const docLink = document.createElement('div');\n",
              "          docLink.innerHTML = docLinkHtml;\n",
              "          element.appendChild(docLink);\n",
              "        }\n",
              "      </script>\n",
              "    </div>\n",
              "  </div>\n",
              "  "
            ]
          },
          "metadata": {},
          "execution_count": 3
        }
      ]
    },
    {
      "cell_type": "code",
      "source": [
        "#Checking Toothcaries dataset missing values\n",
        "data.isnull().sum()"
      ],
      "metadata": {
        "colab": {
          "base_uri": "https://localhost:8080/"
        },
        "id": "moun3JljURwP",
        "outputId": "f0110eb9-06df-45a8-91ac-69fbc68987bf"
      },
      "execution_count": 4,
      "outputs": [
        {
          "output_type": "execute_result",
          "data": {
            "text/plain": [
              "act_caries     0\n",
              "Gender         0\n",
              "Prev_caries    0\n",
              "Calculus       0\n",
              "Fluorosis      0\n",
              "Bleeding       0\n",
              "X1             0\n",
              "X2             0\n",
              "X3             0\n",
              "X4_1           0\n",
              "X4_2           0\n",
              "X4_3           0\n",
              "X4_4           0\n",
              "X4_5           0\n",
              "X4_6           0\n",
              "X4_7           0\n",
              "X4_8           0\n",
              "X4_9           0\n",
              "X6             0\n",
              "X7             0\n",
              "X8             0\n",
              "X9             0\n",
              "X10            0\n",
              "X11            0\n",
              "X12            0\n",
              "X13            0\n",
              "X14_1          0\n",
              "X14_2          0\n",
              "X14_3          0\n",
              "X14_4          0\n",
              "X14_5          0\n",
              "X14_6          0\n",
              "X14_7          0\n",
              "X14_8          0\n",
              "X14_9          0\n",
              "dtype: int64"
            ]
          },
          "metadata": {},
          "execution_count": 4
        }
      ]
    },
    {
      "cell_type": "code",
      "source": [
        "#information of Toothcaries dataset\n",
        "data.info()"
      ],
      "metadata": {
        "colab": {
          "base_uri": "https://localhost:8080/"
        },
        "id": "rc_fD_cEUaJP",
        "outputId": "1060ecf1-a074-4bac-a1b9-b7b582707372"
      },
      "execution_count": 5,
      "outputs": [
        {
          "output_type": "stream",
          "name": "stdout",
          "text": [
            "<class 'pandas.core.frame.DataFrame'>\n",
            "RangeIndex: 10549 entries, 0 to 10548\n",
            "Data columns (total 35 columns):\n",
            " #   Column       Non-Null Count  Dtype\n",
            "---  ------       --------------  -----\n",
            " 0   act_caries   10549 non-null  int64\n",
            " 1   Gender       10549 non-null  int64\n",
            " 2   Prev_caries  10549 non-null  int64\n",
            " 3   Calculus     10549 non-null  int64\n",
            " 4   Fluorosis    10549 non-null  int64\n",
            " 5   Bleeding     10549 non-null  int64\n",
            " 6   X1           10549 non-null  int64\n",
            " 7   X2           10549 non-null  int64\n",
            " 8   X3           10549 non-null  int64\n",
            " 9   X4_1         10549 non-null  int64\n",
            " 10  X4_2         10549 non-null  int64\n",
            " 11  X4_3         10549 non-null  int64\n",
            " 12  X4_4         10549 non-null  int64\n",
            " 13  X4_5         10549 non-null  int64\n",
            " 14  X4_6         10549 non-null  int64\n",
            " 15  X4_7         10549 non-null  int64\n",
            " 16  X4_8         10549 non-null  int64\n",
            " 17  X4_9         10549 non-null  int64\n",
            " 18  X6           10549 non-null  int64\n",
            " 19  X7           10549 non-null  int64\n",
            " 20  X8           10549 non-null  int64\n",
            " 21  X9           10549 non-null  int64\n",
            " 22  X10          10549 non-null  int64\n",
            " 23  X11          10549 non-null  int64\n",
            " 24  X12          10549 non-null  int64\n",
            " 25  X13          10549 non-null  int64\n",
            " 26  X14_1        10549 non-null  int64\n",
            " 27  X14_2        10549 non-null  int64\n",
            " 28  X14_3        10549 non-null  int64\n",
            " 29  X14_4        10549 non-null  int64\n",
            " 30  X14_5        10549 non-null  int64\n",
            " 31  X14_6        10549 non-null  int64\n",
            " 32  X14_7        10549 non-null  int64\n",
            " 33  X14_8        10549 non-null  int64\n",
            " 34  X14_9        10549 non-null  int64\n",
            "dtypes: int64(35)\n",
            "memory usage: 2.8 MB\n"
          ]
        }
      ]
    },
    {
      "cell_type": "code",
      "source": [],
      "metadata": {
        "id": "-p-VZnOmUhMg"
      },
      "execution_count": null,
      "outputs": []
    },
    {
      "cell_type": "code",
      "source": [
        "from sklearn.ensemble import RandomForestClassifier\n",
        "\n",
        "y=data[\"act_caries\"]\n",
        "x=data.drop([\"act_caries\"], axis=1)\n",
        "from sklearn import preprocessing\n",
        "from sklearn.preprocessing import LabelEncoder\n",
        "le = preprocessing.LabelEncoder()"
      ],
      "metadata": {
        "id": "Rez4ZaZCUBph"
      },
      "execution_count": null,
      "outputs": []
    },
    {
      "cell_type": "code",
      "source": [
        "#all features without PCA data\n",
        "from sklearn.metrics import accuracy_score\n",
        "import xgboost as xgb\n",
        "from sklearn.ensemble import RandomForestClassifier, AdaBoostClassifier, ExtraTreesClassifier, GradientBoostingClassifier\n",
        "print(\"RF\")\n",
        "rfc = RandomForestClassifier(n_estimators=100, random_state=52)\n",
        "pred = rfc.fit(X_train, y_train).predict(X_test)\n",
        "print(accuracy_score(y_test,pred))\n",
        "print(\"ADA\")\n",
        "xgb = AdaBoostClassifier(n_estimators=100, random_state=52)\n",
        "xgb_pred = xgb.fit(X_train, y_train).predict(X_test)\n",
        "print(accuracy_score(y_test,xgb_pred))\n",
        "from sklearn.tree import DecisionTreeClassifier\n",
        "from sklearn.metrics import accuracy_score,classification_report\n",
        "dt = DecisionTreeClassifier(random_state=50)\n",
        "print(\"Decision Tree Classifier Result\")\n",
        "DecisionTree=dt.fit(X_train, y_train).predict(X_test)\n",
        "print(accuracy_score(y_test,DecisionTree))\n",
        "from sklearn.svm import SVC\n",
        "print(\"SVC\")\n",
        "svm = SVC(kernel='linear', C=2.0, random_state=52)\n",
        "svm.fit(X_train,y_train)\n",
        "y_pred=svm.predict(X_test)\n",
        "print(accuracy_score(y_test,y_pred))\n",
        "print(\"ETC\")\n",
        "b = ExtraTreesClassifier(n_estimators=100, random_state=52)\n",
        "b_pred = b.fit(X_train, y_train).predict(X_test)\n",
        "print(accuracy_score(y_test,b_pred))\n",
        "from sklearn.naive_bayes import MultinomialNB\n",
        "print(\"MultinomialNB NB\")\n",
        "gnb = MultinomialNB()\n",
        "gnb_pred = gnb.fit(X_train, y_train).predict(X_test)\n",
        "print(accuracy_score(y_test,gnb_pred))\n",
        "# Fitting XGBoost to the training data\n",
        "XGBClassifier = xgb.XGBClassifier()\n",
        "XGBoost=my_model.fit(X_train, y_train).predict(X_test)\n",
        "print(accuracy_score(y_test,XGBoost))\n",
        "from sklearn.linear_model import LogisticRegression\n",
        "lr=LogisticRegression()\n",
        "print(\"Logistic Regression Result\")\n",
        "logisticRegresion=lr.fit(X_train, y_train).predict(X_test)\n",
        "print(accuracy_score(y_test,logisticRegresion))\n",
        "\n",
        "from sklearn.calibration import CalibratedClassifierCV\n",
        "from sklearn.linear_model import SGDClassifier\n",
        "print(\"Stochastic Gradient Classifier\")\n",
        "clf = SGDClassifier(max_iter=1100, tol=1e-3)\n",
        "calibrated_clf = CalibratedClassifierCV(clf, cv=5, method='isotonic')\n",
        "predSGD=calibrated_clf.fit(X_train, y_train).predict(X_test)\n",
        "print(accuracy_score(y_test,predSGD))\n",
        "\n",
        "#from sklearn.linear_model import LogisticRegression\n",
        "from sklearn.ensemble import VotingClassifier\n",
        "#from sklearn.linear_model import SGDClassifier\n",
        "print(\"Voting Classifier XGB+RF+ETC\")\n",
        "clf1 = xgb.XGBClassifier()\n",
        "clf2 = RandomForestClassifier(n_estimators=100, random_state=52)\n",
        "clf3 = ExtraTreesClassifier(n_estimators=100, random_state=52)\n",
        "eclf1 = VotingClassifier(estimators=[\n",
        "        ('xgb', clf1), ('rf', clf2), ('etc', clf3)],voting='hard')\n",
        "predictionVC=eclf1.fit(X_train, y_train).predict(X_test)\n",
        "print(accuracy_score(y_test,predictionVC))"
      ],
      "metadata": {
        "id": "E7KV7ZMeUnqT"
      },
      "execution_count": null,
      "outputs": []
    },
    {
      "cell_type": "code",
      "execution_count": null,
      "metadata": {
        "id": "uarhCGQRTuTB"
      },
      "outputs": [],
      "source": [
        "# Splitting dataset into training and testing sets\n",
        "from sklearn.model_selection import train_test_split\n",
        "\n",
        "X_train, X_test, y_train, y_test = train_test_split(x, y, test_size=0.20, shuffle=True)"
      ]
    },
    {
      "cell_type": "code",
      "execution_count": null,
      "metadata": {
        "id": "AI0hNb7JTuTC"
      },
      "outputs": [],
      "source": [
        "len(y_train)"
      ]
    },
    {
      "cell_type": "code",
      "execution_count": null,
      "metadata": {
        "id": "5x0Fj4gPTuTC"
      },
      "outputs": [],
      "source": [
        "from sklearn.metrics import accuracy_score\n",
        "from sklearn.metrics import classification_report\n",
        "from sklearn.metrics import confusion_matrix"
      ]
    },
    {
      "cell_type": "code",
      "execution_count": null,
      "metadata": {
        "id": "CUi2ODiHTuTC"
      },
      "outputs": [],
      "source": [
        "from sklearn.tree import DecisionTreeClassifier\n",
        "dt=DecisionTreeClassifier(max_depth=50)\n",
        "dtPre=dt.fit(X_train, y_train).predict(X_test)\n",
        "print(accuracy_score(y_test,dtPre))\n",
        "print(classification_report(y_test,dtPre))\n",
        "print(confusion_matrix(y_test,dtPre))"
      ]
    },
    {
      "cell_type": "code",
      "execution_count": null,
      "metadata": {
        "id": "1Jb4nxBmTuTC"
      },
      "outputs": [],
      "source": [
        "from sklearn.ensemble import RandomForestClassifier, AdaBoostClassifier\n",
        "print(\"ADA\")\n",
        "xgb = AdaBoostClassifier(n_estimators=200, random_state=5)\n",
        "xgb_pred = xgb.fit(X_train, y_train).predict(X_test)\n",
        "print(classification_report(y_test,xgb_pred))\n",
        "print(confusion_matrix(y_test,xgb_pred))"
      ]
    },
    {
      "cell_type": "code",
      "execution_count": null,
      "metadata": {
        "id": "-a1rWTY0TuTD"
      },
      "outputs": [],
      "source": [
        "from sklearn.svm import SVC\n",
        "print(\"SVC\")\n",
        "svm = SVC(kernel='linear', C=1.0, random_state=500)\n",
        "svm.fit(X_train,y_train)\n",
        "y_pred=svm.predict(X_test)\n",
        "print(classification_report(y_test,y_pred))\n",
        "print(confusion_matrix(y_test,y_pred))\n"
      ]
    },
    {
      "cell_type": "code",
      "execution_count": null,
      "metadata": {
        "id": "3UXfYIECTuTD"
      },
      "outputs": [],
      "source": [
        "from sklearn.ensemble import RandomForestClassifier\n",
        "rfc = RandomForestClassifier(n_estimators=200, random_state=5, max_depth=20)\n",
        "rfc.fit(X_train, y_train)\n",
        "# calculate accuracy of class predictions\n",
        "y_pred_class = rfc.predict(X_test)\n",
        "print(classification_report(y_test,y_pred_class))\n",
        "print(confusion_matrix(y_test,y_pred_class))"
      ]
    },
    {
      "cell_type": "code",
      "execution_count": null,
      "metadata": {
        "id": "mJ8LafJjTuTD"
      },
      "outputs": [],
      "source": [
        "from sklearn.ensemble import ExtraTreesClassifier\n",
        "print(\"ETC\")\n",
        "b = ExtraTreesClassifier(n_estimators=200, random_state=5, max_depth=20)\n",
        "b_pred = b.fit(X_train, y_train).predict(X_test)\n",
        "print(classification_report(y_test,b_pred))\n",
        "print(confusion_matrix(y_test,b_pred))"
      ]
    },
    {
      "cell_type": "code",
      "execution_count": null,
      "metadata": {
        "id": "oM-A4_DpTuTD"
      },
      "outputs": [],
      "source": [
        "from sklearn.linear_model import LogisticRegression\n",
        "from sklearn.svm import SVC\n",
        "# 2. instantiate a logistic regression model\n",
        "logreg = LogisticRegression(random_state=1000, solver='liblinear',multi_class='ovr',C=3.0)\n",
        "# 3. train the model using X_train_dtm\n",
        "x=logreg.fit(X_train, y_train)\n",
        "# 4. make class predictions for X_test_dtm\n",
        "y_pred_class = logreg.predict(X_test)\n",
        "print(classification_report(y_test,y_pred_class))\n",
        "print(confusion_matrix(y_test,y_pred_class))\n"
      ]
    },
    {
      "cell_type": "code",
      "execution_count": null,
      "metadata": {
        "id": "18ErM3lhTuTD"
      },
      "outputs": [],
      "source": [
        "from sklearn.linear_model import SGDClassifier\n",
        "r3=SGDClassifier(max_iter=1000, tol=1e-3,loss='perceptron')\n",
        "x=r3.fit(X_train, y_train)\n",
        "\n",
        "y_pred_class = r3.predict(X_test)\n",
        "print(classification_report(y_test,y_pred_class))\n",
        "print(confusion_matrix(y_test,y_pred_class))\n"
      ]
    },
    {
      "cell_type": "code",
      "source": [
        "import numpy as np\n",
        "from sklearn.ensemble import RandomForestClassifier, VotingClassifier\n",
        "r1 = LogisticRegression(random_state=1000, solver='liblinear',multi_class='ovr',C=3.0)\n",
        "r2 = SVC(kernel='linear', C=1.0, random_state=500,probability=True)\n",
        "r3 = SGDClassifier(max_iter=1000, tol=1e-3,loss='perceptron')\n",
        "er = VotingClassifier([('lr', r1),('svc', r2),('sgdc', r3)],voting=\"hard\")\n",
        "\n",
        "x=er.fit(X_train, y_train)\n",
        "\n",
        "y_pred_class = er.predict(X_test)\n",
        "print(classification_report(y_test,y_pred_class))\n",
        "print(confusion_matrix(y_test,y_pred_class))\n"
      ],
      "metadata": {
        "id": "gxx6rovUVeFr"
      },
      "execution_count": null,
      "outputs": []
    },
    {
      "cell_type": "code",
      "execution_count": null,
      "metadata": {
        "id": "67l00LbOTuTI"
      },
      "outputs": [],
      "source": []
    },
    {
      "cell_type": "code",
      "execution_count": null,
      "metadata": {
        "id": "o1K5DmQKTuTI"
      },
      "outputs": [],
      "source": [
        "import numpy as np # linear algebra\n",
        "\n",
        "import pandas as pd # data processing, CSV file I/O (e.g. pd.read_csv)\n",
        "import matplotlib.pyplot as plt\n",
        "# Input data files are available in the \"../input/\" directory.\n",
        "# For example, running this (by clicking run or pressing Shift+Enter) will list the files in the input directory\n",
        "\n",
        "import os\n",
        "import glob\n",
        "import cv2\n",
        "import tensorflow as tf\n",
        "from keras import layers\n",
        "from keras.layers import Dropout , Input, Add, Dense, Activation, ZeroPadding2D, BatchNormalization, Flatten, Conv2D, AveragePooling2D, MaxPooling2D, GlobalMaxPooling2D\n",
        "from keras.models import Model, load_model\n",
        "from keras.initializers import glorot_uniform\n",
        "from sklearn.model_selection import train_test_split\n",
        "import keras.backend as K\n",
        "from sklearn.utils import shuffle\n",
        "# importing all necessary libraries to run the code\n",
        "import re,string\n",
        "import numpy as np\n",
        "import pandas as pd\n",
        "import keras_metrics\n",
        "import tensorflow.keras\n",
        "import matplotlib.pyplot as plt\n",
        "from nltk.corpus import stopwords\n",
        "from keras.models import Sequential\n",
        "from sklearn.model_selection import train_test_split\n",
        "from keras.layers import Dense, Flatten, LSTM, Conv1D, MaxPooling1D, Dropout, Activation,Embedding\n",
        "# using the variable sw to hold all stopwords that are in English\n",
        "sw = stopwords.words('english')"
      ]
    },
    {
      "cell_type": "code",
      "execution_count": null,
      "metadata": {
        "id": "YC3rewo2TuTI"
      },
      "outputs": [],
      "source": [
        "from sklearn import preprocessing\n",
        "le = preprocessing.LabelEncoder()\n",
        "le = preprocessing.LabelEncoder()\n",
        "y = le.fit_transform(target)"
      ]
    },
    {
      "cell_type": "code",
      "execution_count": null,
      "metadata": {
        "id": "33TZS18pTuTI"
      },
      "outputs": [],
      "source": [
        "X_train_res=df.astype(int)"
      ]
    },
    {
      "cell_type": "code",
      "execution_count": null,
      "metadata": {
        "id": "xynwf3OBTuTK"
      },
      "outputs": [],
      "source": [
        "from sklearn.tree import DecisionTreeClassifier\n",
        "dt=DecisionTreeClassifier(max_depth=50)\n",
        "dtPre=dt.fit(X_train, y_train).predict(X_test)\n",
        "print(accuracy_score(y_test,dtPre))\n",
        "print(classification_report(y_test,dtPre))\n",
        "print(confusion_matrix(y_test,dtPre))"
      ]
    },
    {
      "cell_type": "code",
      "source": [
        "from sklearn.ensemble import RandomForestClassifier\n",
        "rfc = RandomForestClassifier(n_estimators=200, random_state=5, max_depth=20)\n",
        "rfc.fit(X_train, y_train)\n",
        "# calculate accuracy of class predictions\n",
        "y_pred_class = rfc.predict(X_test)\n",
        "print(classification_report(y_test,y_pred_class))\n",
        "print(confusion_matrix(y_test,y_pred_class))"
      ],
      "metadata": {
        "id": "-lSEdExeWCUE"
      },
      "execution_count": null,
      "outputs": []
    },
    {
      "cell_type": "code",
      "execution_count": null,
      "metadata": {
        "id": "qoak1VaNTuTL"
      },
      "outputs": [],
      "source": [
        "from sklearn.ensemble import ExtraTreesClassifier\n",
        "print(\"ETC\")\n",
        "b = ExtraTreesClassifier(n_estimators=300, random_state=5, max_depth=20)\n",
        "b_pred = b.fit(X_train, y_train).predict(X_test)\n",
        "print(classification_report(y_test,b_pred))\n",
        "print(confusion_matrix(y_test,b_pred))"
      ]
    },
    {
      "cell_type": "code",
      "source": [
        "from sklearn.ensemble import RandomForestClassifier, AdaBoostClassifier\n",
        "print(\"ADA\")\n",
        "xgb = AdaBoostClassifier(n_estimators=100, random_state=5)\n",
        "xgb_pred = xgb.fit(X_train, y_train).predict(X_test)\n",
        "print(classification_report(y_test,xgb_pred))\n",
        "print(confusion_matrix(y_test,xgb_pred))"
      ],
      "metadata": {
        "id": "8KWF2xnZWF2-"
      },
      "execution_count": null,
      "outputs": []
    },
    {
      "cell_type": "code",
      "execution_count": null,
      "metadata": {
        "id": "gljP_C-pTuTP"
      },
      "outputs": [],
      "source": [
        "import numpy as np\n",
        "from sklearn.ensemble import RandomForestClassifier, VotingClassifier\n",
        "r1 = LogisticRegression(random_state=1000, solver='saga',multi_class='ovr',C=2.0)\n",
        "r2 = SVC(kernel='linear', C=1.0, random_state=2, probability=True)\n",
        "r3=SGDClassifier(loss='perceptron')\n",
        "er = VotingClassifier([('svc', r2),('lr', r1),('sgdc', r3)],voting=\"hard\")\n",
        "\n",
        "x=er.fit(X_train, y_train)\n",
        "\n",
        "y_pred_class = er.predict(X_test)\n",
        "print(classification_report(y_test,y_pred_class))\n",
        "print(confusion_matrix(y_test,y_pred_class))"
      ]
    },
    {
      "cell_type": "code",
      "execution_count": null,
      "metadata": {
        "id": "Su6CFAgQTuTP",
        "outputId": "7223400f-25bd-45f5-ad0c-a813d4af2305"
      },
      "outputs": [
        {
          "name": "stdout",
          "output_type": "stream",
          "text": [
            "              precision    recall  f1-score   support\n",
            "\n",
            "           0       0.81      0.81      0.81        26\n",
            "           1       0.86      0.86      0.86        35\n",
            "\n",
            "    accuracy                           0.84        61\n",
            "   macro avg       0.83      0.83      0.83        61\n",
            "weighted avg       0.84      0.84      0.84        61\n",
            "\n",
            "[[21  5]\n",
            " [ 5 30]]\n"
          ]
        }
      ],
      "source": [
        "from sklearn.linear_model import LogisticRegression\n",
        "from sklearn.svm import SVC\n",
        "# 2. instantiate a logistic regression model\n",
        "logreg = LogisticRegression(random_state=1000, solver='saga',multi_class='ovr',C=2.0)\n",
        "# 3. train the model using X_train_dtm\n",
        "x=logreg.fit(X_train, y_train)\n",
        "# 4. make class predictions for X_test_dtm\n",
        "y_pred_class = logreg.predict(X_test)\n",
        "print(classification_report(y_test,y_pred_class))\n",
        "print(confusion_matrix(y_test,y_pred_class))\n"
      ]
    },
    {
      "cell_type": "code",
      "execution_count": null,
      "metadata": {
        "id": "oE_rAXkxTuTP",
        "outputId": "f778c097-b27a-4860-f9c6-5b49efca96c7"
      },
      "outputs": [
        {
          "name": "stdout",
          "output_type": "stream",
          "text": [
            "SVC\n",
            "              precision    recall  f1-score   support\n",
            "\n",
            "           0       0.79      0.85      0.81        26\n",
            "           1       0.88      0.83      0.85        35\n",
            "\n",
            "    accuracy                           0.84        61\n",
            "   macro avg       0.83      0.84      0.83        61\n",
            "weighted avg       0.84      0.84      0.84        61\n",
            "\n",
            "[[22  4]\n",
            " [ 6 29]]\n"
          ]
        }
      ],
      "source": [
        "from sklearn.svm import SVC\n",
        "print(\"SVC\")\n",
        "svm = SVC(kernel='sigmoid', C=1.0, random_state=2)\n",
        "svm.fit(X_train,y_train)\n",
        "y_pred=svm.predict(X_test)\n",
        "print(classification_report(y_test,y_pred))\n",
        "print(confusion_matrix(y_test,y_pred))"
      ]
    },
    {
      "cell_type": "code",
      "execution_count": null,
      "metadata": {
        "id": "BqtEXi9OTuTP"
      },
      "outputs": [],
      "source": []
    },
    {
      "cell_type": "code",
      "execution_count": null,
      "metadata": {
        "id": "Zli8U53bTuTP"
      },
      "outputs": [],
      "source": []
    },
    {
      "cell_type": "code",
      "execution_count": null,
      "metadata": {
        "id": "0PV1eqwNTuTP"
      },
      "outputs": [],
      "source": []
    },
    {
      "cell_type": "code",
      "execution_count": null,
      "metadata": {
        "id": "PhUh_XrqTuTQ"
      },
      "outputs": [],
      "source": []
    },
    {
      "cell_type": "code",
      "execution_count": null,
      "metadata": {
        "id": "9tidG7D_TuTQ"
      },
      "outputs": [],
      "source": [
        "#PCA feature data\n",
        "from sklearn.metrics import accuracy_score\n",
        "import xgboost as xgb\n",
        "from sklearn.ensemble import RandomForestClassifier, AdaBoostClassifier, ExtraTreesClassifier, GradientBoostingClassifier\n",
        "print(\"RF\")\n",
        "rfc = RandomForestClassifier(n_estimators=100, random_state=52)\n",
        "pred = rfc.fit(X_train, y_train).predict(X_test)\n",
        "print(accuracy_score(y_test,pred))\n",
        "print(\"ADA\")\n",
        "xgb = AdaBoostClassifier(n_estimators=100, random_state=52)\n",
        "xgb_pred = xgb.fit(X_train, y_train).predict(X_test)\n",
        "print(accuracy_score(y_test,xgb_pred))\n",
        "from sklearn.tree import DecisionTreeClassifier\n",
        "from sklearn.metrics import accuracy_score,classification_report\n",
        "dt = DecisionTreeClassifier(random_state=50)\n",
        "print(\"Decision Tree Classifier Result\")\n",
        "DecisionTree=dt.fit(X_train, y_train).predict(X_test)\n",
        "print(accuracy_score(y_test,DecisionTree))\n",
        "from sklearn.svm import SVC\n",
        "print(\"SVC\")\n",
        "svm = SVC(kernel='linear', C=2.0, random_state=52)\n",
        "svm.fit(X_train,y_train)\n",
        "y_pred=svm.predict(X_test)\n",
        "print(accuracy_score(y_test,y_pred))\n",
        "print(\"ETC\")\n",
        "b = ExtraTreesClassifier(n_estimators=100, random_state=52)\n",
        "b_pred = b.fit(X_train, y_train).predict(X_test)\n",
        "print(accuracy_score(y_test,b_pred))\n",
        "from sklearn.naive_bayes import MultinomialNB\n",
        "print(\"MultinomialNB NB\")\n",
        "gnb = MultinomialNB()\n",
        "gnb_pred = gnb.fit(X_train, y_train).predict(X_test)\n",
        "print(accuracy_score(y_test,gnb_pred))\n",
        "# Fitting XGBoost to the training data\n",
        "XGBClassifier = xgb.XGBClassifier()\n",
        "XGBoost=my_model.fit(X_train, y_train).predict(X_test)\n",
        "print(accuracy_score(y_test,XGBoost))\n",
        "from sklearn.linear_model import LogisticRegression\n",
        "lr=LogisticRegression()\n",
        "print(\"Logistic Regression Result\")\n",
        "logisticRegresion=lr.fit(X_train, y_train).predict(X_test)\n",
        "print(accuracy_score(y_test,logisticRegresion))\n",
        "\n",
        "from sklearn.calibration import CalibratedClassifierCV\n",
        "from sklearn.linear_model import SGDClassifier\n",
        "print(\"Stochastic Gradient Classifier\")\n",
        "clf = SGDClassifier(max_iter=1100, tol=1e-3)\n",
        "calibrated_clf = CalibratedClassifierCV(clf, cv=5, method='isotonic')\n",
        "predSGD=calibrated_clf.fit(X_train, y_train).predict(X_test)\n",
        "print(accuracy_score(y_test,predSGD))\n",
        "\n",
        "#from sklearn.linear_model import LogisticRegression\n",
        "from sklearn.ensemble import VotingClassifier\n",
        "#from sklearn.linear_model import SGDClassifier\n",
        "print(\"Voting Classifier XGB+RF+ETC\")\n",
        "clf1 = xgb.XGBClassifier()\n",
        "clf2 = RandomForestClassifier(n_estimators=100, random_state=52)\n",
        "clf3 = ExtraTreesClassifier(n_estimators=100, random_state=52)\n",
        "eclf1 = VotingClassifier(estimators=[\n",
        "        ('xgb', clf1), ('rf', clf2), ('etc', clf3)],voting='hard')\n",
        "predictionVC=eclf1.fit(X_train, y_train).predict(X_test)\n",
        "print(accuracy_score(y_test,predictionVC))"
      ]
    },
    {
      "cell_type": "code",
      "execution_count": null,
      "metadata": {
        "id": "MVzM9pEoTuTQ"
      },
      "outputs": [],
      "source": []
    },
    {
      "cell_type": "code",
      "execution_count": null,
      "metadata": {
        "id": "2FyOVatoTuTQ"
      },
      "outputs": [],
      "source": []
    },
    {
      "cell_type": "code",
      "execution_count": null,
      "metadata": {
        "id": "sAWrAQKsTuTQ"
      },
      "outputs": [],
      "source": []
    },
    {
      "cell_type": "code",
      "execution_count": null,
      "metadata": {
        "id": "9WM0_ES5TuTQ"
      },
      "outputs": [],
      "source": [
        "#PCA features data\n",
        "from sklearn.metrics import accuracy_score\n",
        "import xgboost as xgb\n",
        "from sklearn.ensemble import RandomForestClassifier, AdaBoostClassifier, ExtraTreesClassifier, GradientBoostingClassifier\n",
        "print(\"RF\")\n",
        "rfc = RandomForestClassifier(n_estimators=100, random_state=52)\n",
        "pred = rfc.fit(X_train, y_train).predict(X_test)\n",
        "print(accuracy_score(y_test,pred))\n",
        "print(\"ADA\")\n",
        "xgb = AdaBoostClassifier(n_estimators=100, random_state=52)\n",
        "xgb_pred = xgb.fit(X_train, y_train).predict(X_test)\n",
        "print(accuracy_score(y_test,xgb_pred))\n",
        "from sklearn.tree import DecisionTreeClassifier\n",
        "from sklearn.metrics import accuracy_score,classification_report\n",
        "dt = DecisionTreeClassifier(random_state=50)\n",
        "print(\"Decision Tree Classifier Result\")\n",
        "DecisionTree=dt.fit(X_train, y_train).predict(X_test)\n",
        "print(accuracy_score(y_test,DecisionTree))\n",
        "from sklearn.svm import SVC\n",
        "print(\"SVC\")\n",
        "svm = SVC(kernel='linear', C=2.0, random_state=52)\n",
        "svm.fit(X_train,y_train)\n",
        "y_pred=svm.predict(X_test)\n",
        "print(accuracy_score(y_test,y_pred))\n",
        "print(\"ETC\")\n",
        "b = ExtraTreesClassifier(n_estimators=100, random_state=52)\n",
        "b_pred = b.fit(X_train, y_train).predict(X_test)\n",
        "print(accuracy_score(y_test,b_pred))\n",
        "from sklearn.naive_bayes import MultinomialNB\n",
        "print(\"MultinomialNB NB\")\n",
        "gnb = MultinomialNB()\n",
        "gnb_pred = gnb.fit(X_train, y_train).predict(X_test)\n",
        "print(accuracy_score(y_test,gnb_pred))\n",
        "# Fitting XGBoost to the training data\n",
        "XGBClassifier = xgb.XGBClassifier()\n",
        "XGBoost=my_model.fit(X_train, y_train).predict(X_test)\n",
        "print(accuracy_score(y_test,XGBoost))\n",
        "from sklearn.linear_model import LogisticRegression\n",
        "lr=LogisticRegression()\n",
        "print(\"Logistic Regression Result\")\n",
        "logisticRegresion=lr.fit(X_train, y_train).predict(X_test)\n",
        "print(accuracy_score(y_test,logisticRegresion))\n",
        "\n",
        "from sklearn.calibration import CalibratedClassifierCV\n",
        "from sklearn.linear_model import SGDClassifier\n",
        "print(\"Stochastic Gradient Classifier\")\n",
        "clf = SGDClassifier(max_iter=1100, tol=1e-3)\n",
        "calibrated_clf = CalibratedClassifierCV(clf, cv=5, method='isotonic')\n",
        "predSGD=calibrated_clf.fit(X_train, y_train).predict(X_test)\n",
        "print(accuracy_score(y_test,predSGD))\n",
        "\n",
        "#from sklearn.linear_model import LogisticRegression\n",
        "from sklearn.ensemble import VotingClassifier\n",
        "#from sklearn.linear_model import SGDClassifier\n",
        "print(\"Voting Classifier XGB+RF+ETC\")\n",
        "clf1 = xgb.XGBClassifier()\n",
        "clf2 = RandomForestClassifier(n_estimators=100, random_state=52)\n",
        "clf3 = ExtraTreesClassifier(n_estimators=100, random_state=52)\n",
        "eclf1 = VotingClassifier(estimators=[\n",
        "        ('xgb', clf1), ('rf', clf2), ('etc', clf3)],voting='hard')\n",
        "predictionVC=eclf1.fit(X_train, y_train).predict(X_test)\n",
        "print(accuracy_score(y_test,predictionVC))"
      ]
    },
    {
      "cell_type": "code",
      "execution_count": null,
      "metadata": {
        "id": "-5_f0knITuTQ"
      },
      "outputs": [],
      "source": []
    },
    {
      "cell_type": "code",
      "execution_count": null,
      "metadata": {
        "id": "rweU3A9fTuTQ"
      },
      "outputs": [],
      "source": []
    },
    {
      "cell_type": "code",
      "execution_count": null,
      "metadata": {
        "id": "kNDIZG-STuTQ"
      },
      "outputs": [],
      "source": []
    },
    {
      "cell_type": "code",
      "execution_count": null,
      "metadata": {
        "id": "dQN5G1YcTuTQ"
      },
      "outputs": [],
      "source": []
    },
    {
      "cell_type": "code",
      "execution_count": null,
      "metadata": {
        "id": "cKwVCRpATuTR"
      },
      "outputs": [],
      "source": []
    },
    {
      "cell_type": "code",
      "execution_count": null,
      "metadata": {
        "id": "QqtySrhATuTR"
      },
      "outputs": [],
      "source": []
    },
    {
      "cell_type": "code",
      "execution_count": null,
      "metadata": {
        "id": "CImF4DJpTuTR"
      },
      "outputs": [],
      "source": []
    },
    {
      "cell_type": "code",
      "execution_count": null,
      "metadata": {
        "id": "HZso2YZ8TuTR"
      },
      "outputs": [],
      "source": []
    },
    {
      "cell_type": "code",
      "execution_count": null,
      "metadata": {
        "id": "WOXlul11TuTR"
      },
      "outputs": [],
      "source": []
    },
    {
      "cell_type": "code",
      "execution_count": null,
      "metadata": {
        "id": "nJWMSYwmTuTR"
      },
      "outputs": [],
      "source": []
    },
    {
      "cell_type": "code",
      "execution_count": null,
      "metadata": {
        "id": "DL3-2cDhTuTR"
      },
      "outputs": [],
      "source": []
    },
    {
      "cell_type": "code",
      "execution_count": null,
      "metadata": {
        "id": "aahY35xHTuTR"
      },
      "outputs": [],
      "source": []
    },
    {
      "cell_type": "code",
      "execution_count": null,
      "metadata": {
        "id": "z-iyyresTuTR"
      },
      "outputs": [],
      "source": []
    },
    {
      "cell_type": "code",
      "execution_count": null,
      "metadata": {
        "id": "sv3fcoHuTuTS"
      },
      "outputs": [],
      "source": []
    },
    {
      "cell_type": "code",
      "execution_count": null,
      "metadata": {
        "id": "7gGZaWibTuTS",
        "outputId": "c1d5d03e-9678-45ad-c1d1-1ab1eaa51bf8"
      },
      "outputs": [
        {
          "name": "stdout",
          "output_type": "stream",
          "text": [
            "              precision    recall  f1-score   support\n",
            "\n",
            "           0       0.94      0.85      0.89        93\n",
            "           1       0.86      0.95      0.90        91\n",
            "\n",
            "    accuracy                           0.90       184\n",
            "   macro avg       0.90      0.90      0.90       184\n",
            "weighted avg       0.90      0.90      0.90       184\n",
            "\n",
            "[[79 14]\n",
            " [ 5 86]]\n"
          ]
        }
      ],
      "source": [
        "from sklearn.linear_model import LogisticRegression\n",
        "from sklearn.svm import SVC\n",
        "# 2. instantiate a logistic regression model\n",
        "logreg = LogisticRegression(random_state=1000, solver='saga',multi_class='ovr',C=2.0)\n",
        "# 3. train the model using X_train_dtm\n",
        "x=logreg.fit(X_train, y_train)\n",
        "# 4. make class predictions for X_test_dtm\n",
        "y_pred_class = logreg.predict(X_test)\n",
        "print(classification_report(y_test,y_pred_class))\n",
        "print(confusion_matrix(y_test,y_pred_class))\n"
      ]
    },
    {
      "cell_type": "code",
      "execution_count": null,
      "metadata": {
        "id": "6d-LIzQ9TuTS"
      },
      "outputs": [],
      "source": []
    },
    {
      "cell_type": "code",
      "execution_count": null,
      "metadata": {
        "id": "hUhHHAuhTuTS",
        "outputId": "240bd199-d530-4b76-ec70-4373f11be6bc"
      },
      "outputs": [
        {
          "name": "stdout",
          "output_type": "stream",
          "text": [
            "SVC\n",
            "              precision    recall  f1-score   support\n",
            "\n",
            "           0       0.94      0.85      0.89        93\n",
            "           1       0.86      0.95      0.90        91\n",
            "\n",
            "    accuracy                           0.90       184\n",
            "   macro avg       0.90      0.90      0.90       184\n",
            "weighted avg       0.90      0.90      0.90       184\n",
            "\n",
            "[[79 14]\n",
            " [ 5 86]]\n"
          ]
        }
      ],
      "source": [
        "from sklearn.svm import SVC\n",
        "print(\"SVC\")\n",
        "svm = SVC(kernel='sigmoid', C=1.0, random_state=2)\n",
        "svm.fit(X_train,y_train)\n",
        "y_pred=svm.predict(X_test)\n",
        "print(classification_report(y_test,y_pred))\n",
        "print(confusion_matrix(y_test,y_pred))\n"
      ]
    },
    {
      "cell_type": "code",
      "execution_count": null,
      "metadata": {
        "id": "_rjo1FICTuTS"
      },
      "outputs": [],
      "source": []
    },
    {
      "cell_type": "code",
      "execution_count": null,
      "metadata": {
        "id": "LSBB6HpMTuTS"
      },
      "outputs": [],
      "source": []
    },
    {
      "cell_type": "code",
      "execution_count": null,
      "metadata": {
        "id": "bxH55mcLTuTS"
      },
      "outputs": [],
      "source": []
    },
    {
      "cell_type": "code",
      "execution_count": null,
      "metadata": {
        "id": "Ei94OIUmTuTU"
      },
      "outputs": [],
      "source": [
        "# Splitting dataset into training and testing sets\n",
        "from sklearn.model_selection import train_test_split\n",
        "\n",
        "X_train, X_test, y_train, y_test = train_test_split(rounded_predictions, target, test_size=0.20, shuffle=True)"
      ]
    },
    {
      "cell_type": "code",
      "execution_count": null,
      "metadata": {
        "id": "zlco5Lr3TuTU",
        "outputId": "e02821f7-cde0-444a-911f-5268f583880f"
      },
      "outputs": [
        {
          "name": "stdout",
          "output_type": "stream",
          "text": [
            "ETC\n",
            "              precision    recall  f1-score   support\n",
            "\n",
            "           0       0.83      0.85      0.84        73\n",
            "           1       0.90      0.88      0.89       111\n",
            "\n",
            "    accuracy                           0.87       184\n",
            "   macro avg       0.86      0.87      0.86       184\n",
            "weighted avg       0.87      0.87      0.87       184\n",
            "\n",
            "[[62 11]\n",
            " [13 98]]\n"
          ]
        }
      ],
      "source": [
        "from sklearn.ensemble import ExtraTreesClassifier\n",
        "print(\"ETC\")\n",
        "b = ExtraTreesClassifier(n_estimators=300, random_state=5, max_depth=20)\n",
        "b_pred = b.fit(X_train, y_train).predict(X_test)\n",
        "print(classification_report(y_test,b_pred))\n",
        "print(confusion_matrix(y_test,b_pred))"
      ]
    },
    {
      "cell_type": "code",
      "execution_count": null,
      "metadata": {
        "id": "6xGZFnUMTuTU",
        "outputId": "2c6cc400-5159-4f02-c0c6-904ecc870aa1"
      },
      "outputs": [
        {
          "name": "stdout",
          "output_type": "stream",
          "text": [
            "ADA\n",
            "              precision    recall  f1-score   support\n",
            "\n",
            "           0       0.79      0.79      0.79        73\n",
            "           1       0.86      0.86      0.86       111\n",
            "\n",
            "    accuracy                           0.84       184\n",
            "   macro avg       0.83      0.83      0.83       184\n",
            "weighted avg       0.84      0.84      0.84       184\n",
            "\n",
            "[[58 15]\n",
            " [15 96]]\n"
          ]
        }
      ],
      "source": [
        "from sklearn.ensemble import RandomForestClassifier, AdaBoostClassifier\n",
        "print(\"ADA\")\n",
        "xgb = AdaBoostClassifier(n_estimators=100, random_state=5)\n",
        "xgb_pred = xgb.fit(X_train, y_train).predict(X_test)\n",
        "print(classification_report(y_test,xgb_pred))\n",
        "print(confusion_matrix(y_test,xgb_pred))"
      ]
    },
    {
      "cell_type": "code",
      "execution_count": null,
      "metadata": {
        "id": "y1CaTq7uTuTV",
        "outputId": "c8b175b4-b1b4-4b8e-b1de-b3665f998610"
      },
      "outputs": [
        {
          "name": "stdout",
          "output_type": "stream",
          "text": [
            "              precision    recall  f1-score   support\n",
            "\n",
            "           0       0.82      0.85      0.83        73\n",
            "           1       0.90      0.87      0.89       111\n",
            "\n",
            "    accuracy                           0.86       184\n",
            "   macro avg       0.86      0.86      0.86       184\n",
            "weighted avg       0.87      0.86      0.86       184\n",
            "\n",
            "[[62 11]\n",
            " [14 97]]\n"
          ]
        }
      ],
      "source": [
        "import numpy as np\n",
        "from sklearn.ensemble import RandomForestClassifier, VotingClassifier\n",
        "r1 = LogisticRegression(random_state=1000, solver='saga',multi_class='ovr',C=2.0)\n",
        "r2 = SVC(kernel='sigmoid', C=1.0, random_state=2, probability=True)\n",
        "er = VotingClassifier([('lr', r1),('svc', r2)],voting=\"soft\")\n",
        "\n",
        "x=er.fit(X_train, y_train)\n",
        "\n",
        "y_pred_class = er.predict(X_test)\n",
        "print(classification_report(y_test,y_pred_class))\n",
        "print(confusion_matrix(y_test,y_pred_class))\n"
      ]
    },
    {
      "cell_type": "code",
      "execution_count": null,
      "metadata": {
        "id": "w1JIQIMxTuTV"
      },
      "outputs": [],
      "source": []
    },
    {
      "cell_type": "code",
      "execution_count": null,
      "metadata": {
        "id": "F08tq0GRTuTV",
        "outputId": "6ab4078a-0ca2-4a86-84d6-5744db8020e3"
      },
      "outputs": [
        {
          "name": "stdout",
          "output_type": "stream",
          "text": [
            "              precision    recall  f1-score   support\n",
            "\n",
            "           0       0.86      0.82      0.84        66\n",
            "           1       0.84      0.88      0.86        72\n",
            "\n",
            "    accuracy                           0.85       138\n",
            "   macro avg       0.85      0.85      0.85       138\n",
            "weighted avg       0.85      0.85      0.85       138\n",
            "\n",
            "[[54 12]\n",
            " [ 9 63]]\n"
          ]
        }
      ],
      "source": [
        "from sklearn.linear_model import LogisticRegression\n",
        "from sklearn.svm import SVC\n",
        "# 2. instantiate a logistic regression model\n",
        "logreg = LogisticRegression(random_state=1000, solver='saga',multi_class='ovr',C=2.0)\n",
        "# 3. train the model using X_train_dtm\n",
        "x=logreg.fit(X_train, y_train)\n",
        "# 4. make class predictions for X_test_dtm\n",
        "y_pred_class = logreg.predict(X_test)\n",
        "print(classification_report(y_test,y_pred_class))\n",
        "print(confusion_matrix(y_test,y_pred_class))"
      ]
    },
    {
      "cell_type": "code",
      "execution_count": null,
      "metadata": {
        "id": "If-OSbFtTuTV"
      },
      "outputs": [],
      "source": []
    },
    {
      "cell_type": "code",
      "execution_count": null,
      "metadata": {
        "id": "D5OzL5ukTuTV",
        "outputId": "845cdbd8-5f20-4939-fa75-e7757920d91a"
      },
      "outputs": [
        {
          "name": "stdout",
          "output_type": "stream",
          "text": [
            "SVC\n",
            "              precision    recall  f1-score   support\n",
            "\n",
            "           0       0.84      0.82      0.83        66\n",
            "           1       0.84      0.86      0.85        72\n",
            "\n",
            "    accuracy                           0.84       138\n",
            "   macro avg       0.84      0.84      0.84       138\n",
            "weighted avg       0.84      0.84      0.84       138\n",
            "\n",
            "[[54 12]\n",
            " [10 62]]\n"
          ]
        }
      ],
      "source": [
        "from sklearn.svm import SVC\n",
        "print(\"SVC\")\n",
        "svm = SVC(kernel='sigmoid', C=2.0, random_state=2)\n",
        "svm.fit(X_train,y_train)\n",
        "y_pred=svm.predict(X_test)\n",
        "print(classification_report(y_test,y_pred))\n",
        "print(confusion_matrix(y_test,y_pred))\n"
      ]
    },
    {
      "cell_type": "code",
      "execution_count": null,
      "metadata": {
        "id": "vKaT7H-vTuTV"
      },
      "outputs": [],
      "source": []
    },
    {
      "cell_type": "code",
      "execution_count": null,
      "metadata": {
        "id": "nMklomeMTuTV"
      },
      "outputs": [],
      "source": []
    },
    {
      "cell_type": "code",
      "execution_count": null,
      "metadata": {
        "id": "rtOI8R2pTuTV"
      },
      "outputs": [],
      "source": []
    },
    {
      "cell_type": "code",
      "execution_count": null,
      "metadata": {
        "id": "Y4nzlbb1TuTW"
      },
      "outputs": [],
      "source": []
    },
    {
      "cell_type": "code",
      "execution_count": null,
      "metadata": {
        "id": "RlSn8vchTuTW"
      },
      "outputs": [],
      "source": []
    },
    {
      "cell_type": "code",
      "execution_count": null,
      "metadata": {
        "id": "HtmqASKgTuTW"
      },
      "outputs": [],
      "source": []
    },
    {
      "cell_type": "code",
      "execution_count": null,
      "metadata": {
        "id": "HBIk7AT4TuTW"
      },
      "outputs": [],
      "source": []
    },
    {
      "cell_type": "code",
      "execution_count": null,
      "metadata": {
        "id": "8wV5C6cZTuTW"
      },
      "outputs": [],
      "source": []
    },
    {
      "cell_type": "code",
      "execution_count": null,
      "metadata": {
        "id": "xyeK69MaTuTW"
      },
      "outputs": [],
      "source": []
    },
    {
      "cell_type": "code",
      "execution_count": null,
      "metadata": {
        "id": "aiyEjhAoTuTW"
      },
      "outputs": [],
      "source": []
    },
    {
      "cell_type": "code",
      "execution_count": null,
      "metadata": {
        "id": "YAkFqesETuTX"
      },
      "outputs": [],
      "source": [
        "def nearest_on_circle(c, R, x):\n",
        "    cos_=(x2-c2)/euclidean_dist(x1,x2,c1,c2)\n",
        "    sin_=(x1-c1)/euclidean_dist(x1,x2,c1,c2)\n",
        "    #then extrpolate the center along this line to a distance equal to that of radius\n",
        "    #to obtain the nearest point\n",
        "    y1=c1+r*cos_\n",
        "    y2=c2+r*sin_\n",
        "    y=y1,y2\n",
        "    return y"
      ]
    },
    {
      "cell_type": "code",
      "execution_count": null,
      "metadata": {
        "id": "bz6r4tixTuTX"
      },
      "outputs": [],
      "source": [
        "def euclidean_dist(x1,y1,x2,y2):\n",
        "    return math.sqrt((x1-x2)**2 +(y1-y2)**2)"
      ]
    },
    {
      "cell_type": "code",
      "execution_count": null,
      "metadata": {
        "id": "3tMXFoQyTuTX"
      },
      "outputs": [],
      "source": [
        "def reflections_in_tunnel(w, h, alpha, n):\n",
        "    x=(n*w-h)/math.tan(alpha)\n",
        "    return x"
      ]
    },
    {
      "cell_type": "code",
      "execution_count": null,
      "metadata": {
        "id": "oMCW_6GjTuTX",
        "outputId": "e51b71e7-59fd-4788-a8a0-53df4388c736"
      },
      "outputs": [
        {
          "data": {
            "text/plain": [
              "0.15611995216165922"
            ]
          },
          "execution_count": 20,
          "metadata": {},
          "output_type": "execute_result"
        }
      ],
      "source": [
        "reflections_in_tunnel(2, 3, 30, 1)"
      ]
    },
    {
      "cell_type": "code",
      "execution_count": null,
      "metadata": {
        "id": "hSYAE4_RTuTX"
      },
      "outputs": [],
      "source": []
    },
    {
      "cell_type": "code",
      "execution_count": null,
      "metadata": {
        "id": "x_pA63yITuTX"
      },
      "outputs": [],
      "source": [
        "def reflection_on_circle(c_x, R, alpha):\n",
        "    #formula to find Sin Beta\n",
        "    sinB=(c_x/R)*math.sin(alpha)\n",
        "    # Now L will be\n",
        "    L=c_x+(R*sinB)/(math.cos(alpha)*(1-2*math.sin(sinB)**2)-(2*math.sin(alpha)*math.sin(sinB))*(math.sqrt(1-math.sin(sinB)**2)))\n",
        "    return L"
      ]
    },
    {
      "cell_type": "code",
      "execution_count": null,
      "metadata": {
        "id": "mIsg8qVBTuTY"
      },
      "outputs": [],
      "source": [
        "B=[[1,0],[1,0],[1,0]]\n",
        "v=[1,2,2]\n",
        "B=np.array(B)\n",
        "v=np.array(v)\n",
        "\n"
      ]
    },
    {
      "cell_type": "code",
      "execution_count": null,
      "metadata": {
        "id": "UY5vbjL-TuTY",
        "outputId": "7657bb2a-db5c-41db-80ae-e1a41d3b3eda"
      },
      "outputs": [
        {
          "data": {
            "text/plain": [
              "array([[3.42],\n",
              "       [1.55],\n",
              "       [3.65]])"
            ]
          },
          "execution_count": 65,
          "metadata": {},
          "output_type": "execute_result"
        }
      ],
      "source": [
        "import numpy as np\n",
        "x = np.array([[0, 0, 1],\n",
        "              [0, 1, 0],\n",
        "              [1, 0, 0]])\n",
        "y = ([[3.65], [1.55], [3.42]])\n",
        "x = np.array(x)\n",
        "scalars = np.linalg.solve(x, y)\n",
        "scalars"
      ]
    },
    {
      "cell_type": "code",
      "execution_count": null,
      "metadata": {
        "id": "nZMPoWMETuTY",
        "outputId": "8711c70a-a03a-49da-cafc-e749efba8dab"
      },
      "outputs": [
        {
          "data": {
            "text/plain": [
              "array([[3.42, 3.42, 2.42],\n",
              "       [1.55, 2.55, 1.55],\n",
              "       [2.65, 3.65, 3.65]])"
            ]
          },
          "execution_count": 63,
          "metadata": {},
          "output_type": "execute_result"
        }
      ],
      "source": [
        "from scipy.linalg import orth\n",
        "o=orth(x)\n",
        "v=scalars+o\n",
        "v"
      ]
    },
    {
      "cell_type": "code",
      "execution_count": null,
      "metadata": {
        "id": "l6QjC7mXTuTY"
      },
      "outputs": [],
      "source": [
        "def orthogonal_components(B, v):\n",
        "    B = np.array(B)\n",
        "    v = np.array(v)\n",
        "    v11 = np.linalg.solve(x, y)\n",
        "    from scipy.linalg import orth\n",
        "    vp=orth(x)\n",
        "    return v11,vp"
      ]
    },
    {
      "cell_type": "code",
      "execution_count": null,
      "metadata": {
        "id": "EizqdOONTuTY",
        "outputId": "e92907ea-906f-432b-9145-e3c6ded67ade"
      },
      "outputs": [
        {
          "data": {
            "text/plain": [
              "(array([[3.42],\n",
              "        [1.55],\n",
              "        [3.65]]),\n",
              " array([[ 0.,  0., -1.],\n",
              "        [ 0.,  1.,  0.],\n",
              "        [-1.,  0.,  0.]]))"
            ]
          },
          "execution_count": 71,
          "metadata": {},
          "output_type": "execute_result"
        }
      ],
      "source": [
        "orthogonal_components(x,y)"
      ]
    },
    {
      "cell_type": "code",
      "execution_count": null,
      "metadata": {
        "id": "iDgt647ZTuTY"
      },
      "outputs": [],
      "source": []
    },
    {
      "cell_type": "code",
      "execution_count": null,
      "metadata": {
        "id": "C49u6uS3TuTZ"
      },
      "outputs": [],
      "source": [
        "def marginal_x(P):\n",
        "    p=np.array(P)\n",
        "    from scipy.stats.contingency import margins\n",
        "    x, y = margins(p)\n",
        "    return x.T"
      ]
    },
    {
      "cell_type": "code",
      "execution_count": null,
      "metadata": {
        "id": "x5vH3WaOTuTc",
        "outputId": "f9185408-2a34-4515-88bb-766c74f41d71"
      },
      "outputs": [
        {
          "name": "stdout",
          "output_type": "stream",
          "text": [
            "[[0.11 0.48 0.3  0.11]]\n"
          ]
        }
      ],
      "source": [
        "import numpy as np\n",
        "\n",
        "\n",
        "p = np.array([[0.01, 0.02, 0.04, 0.04],\n",
        "                [0.03, 0.24, 0.15, 0.06],\n",
        "                [0.04, 0.10, 0.08, 0.08],\n",
        "                [0.02, 0.04, 0.03, 0.02]\n",
        "            ])\n",
        "\n",
        "\n",
        "a=marginal_x(p)\n",
        "a=np.array(a)\n",
        "print(marginal_x(p))"
      ]
    },
    {
      "cell_type": "code",
      "execution_count": null,
      "metadata": {
        "id": "x1enSfKNTuTc"
      },
      "outputs": [],
      "source": [
        "def calc_Expectation(P):\n",
        "\t\tp=np.array(P)\n",
        "\t\tsum = 0\n",
        "\t\tfrom scipy.stats.contingency import margins\n",
        "\t\tx, y = margins(p)\n",
        "\t\ta=np.array(y.T)\n",
        "\t\tfor i in range(len(a)):\n",
        "\t\t\tsum=sum+ (a[i])\n",
        "\t\te=float(sum)\n",
        "\t\treturn e\n",
        "\n"
      ]
    },
    {
      "cell_type": "code",
      "execution_count": null,
      "metadata": {
        "id": "PB96DD4uTuTd"
      },
      "outputs": [],
      "source": [
        "def calc_Expectation(P):\n",
        "\t\tp=np.array(P)\n",
        "\t\tsum = 0\n",
        "\t\tfrom scipy.stats.contingency import margins\n",
        "\t\tx, y = margins(p)\n",
        "\t\ta=np.array(y.T)\n",
        "\t\ta=np.array(y.T)\n",
        "\n"
      ]
    },
    {
      "cell_type": "code",
      "execution_count": null,
      "metadata": {
        "id": "DPpmFT_0TuTd"
      },
      "outputs": [],
      "source": []
    },
    {
      "cell_type": "code",
      "execution_count": null,
      "metadata": {
        "id": "lhuVDFa9TuTd",
        "outputId": "41fd973b-4037-4d36-b2f5-422e057c0a01"
      },
      "outputs": [
        {
          "data": {
            "text/plain": [
              "1.0"
            ]
          },
          "execution_count": 66,
          "metadata": {},
          "output_type": "execute_result"
        }
      ],
      "source": [
        "calc_Expectation(p)"
      ]
    },
    {
      "cell_type": "code",
      "execution_count": null,
      "metadata": {
        "id": "W5rcyOqRTuTd"
      },
      "outputs": [],
      "source": [
        "def calc_Expectation(P, n):\n",
        "\t\tprb = 1 / n\n",
        "\t\tsum = 0\n",
        "\t\tp=np.array(P)\n",
        "\t\tfrom scipy.stats.contingency import margins\n",
        "\t\tx, y = margins(p)\n",
        "\t\ta=np.array(x*y.T)\n"
      ]
    },
    {
      "cell_type": "code",
      "execution_count": null,
      "metadata": {
        "id": "vZSOcbqHTuTd",
        "outputId": "09615c0b-7825-4293-ea6f-1752ee7d81a6"
      },
      "outputs": [
        {
          "data": {
            "text/plain": [
              "0.1015"
            ]
          },
          "execution_count": 75,
          "metadata": {},
          "output_type": "execute_result"
        }
      ],
      "source": [
        "p = np.array([[0.01, 0.02, 0.04, 0.04],\n",
        "                [0.03, 0.24, 0.15, 0.06],\n",
        "                [0.04, 0.10, 0.08, 0.08],\n",
        "                [0.02, 0.04, 0.03, 0.02]\n",
        "            ])\n",
        "\n",
        "\n",
        "n=2\n",
        "calc_Expectation(p,n)"
      ]
    },
    {
      "cell_type": "code",
      "execution_count": null,
      "metadata": {
        "id": "ZJ0TTRROTuTd"
      },
      "outputs": [],
      "source": []
    },
    {
      "cell_type": "code",
      "execution_count": null,
      "metadata": {
        "id": "d6QG49BITuTd",
        "outputId": "b8fd109a-7187-4613-e562-b6278702f8d0"
      },
      "outputs": [
        {
          "data": {
            "text/plain": [
              "(array([[0., 0., 0., 0., 0., 0.],\n",
              "        [0., 0., 0., 0., 0., 0.],\n",
              "        [0., 0., 0., 0., 0., 0.],\n",
              "        [0., 0., 0., 0., 0., 0.],\n",
              "        [0., 0., 0., 0., 0., 0.],\n",
              "        [0., 0., 0., 0., 0., 0.]]),\n",
              " array([3, 4, 4, 5, 6, 7]))"
            ]
          },
          "execution_count": 81,
          "metadata": {},
          "output_type": "execute_result"
        }
      ],
      "source": [
        "def repeated_entries(x):\n",
        "    a=np.array(x.T)\n",
        "    N = len(x)\n",
        "    L=len(a)\n",
        "    S = np.zeros((N, L))\n",
        "    u = a\n",
        "    return S, u\n",
        "\n",
        "x=np.array([3,4,4,5,6,7])\n",
        "repeated_entries(x)"
      ]
    },
    {
      "cell_type": "code",
      "execution_count": null,
      "metadata": {
        "id": "7QBKanayTuTe"
      },
      "outputs": [],
      "source": []
    }
  ],
  "metadata": {
    "kernelspec": {
      "display_name": "Python 3 (ipykernel)",
      "language": "python",
      "name": "python3"
    },
    "language_info": {
      "codemirror_mode": {
        "name": "ipython",
        "version": 3
      },
      "file_extension": ".py",
      "mimetype": "text/x-python",
      "name": "python",
      "nbconvert_exporter": "python",
      "pygments_lexer": "ipython3",
      "version": "3.9.7"
    },
    "colab": {
      "provenance": []
    }
  },
  "nbformat": 4,
  "nbformat_minor": 0
}